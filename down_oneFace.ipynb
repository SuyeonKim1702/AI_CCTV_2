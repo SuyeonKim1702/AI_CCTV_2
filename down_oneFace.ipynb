{
 "cells": [
  {
   "cell_type": "code",
   "execution_count": 36,
   "metadata": {},
   "outputs": [],
   "source": [
    "import numpy as np\n",
    "import cv2\n",
    "import glob"
   ]
  },
  {
   "cell_type": "code",
   "execution_count": 37,
   "metadata": {},
   "outputs": [],
   "source": [
    "face_cascade = cv2.CascadeClassifier(r'C:\\Users\\rlatn\\AppData\\Local\\Programs\\Python\\Python37\\haarcascade_frontalface_default.xml')\n",
    "eye_cascade = cv2.CascadeClassifier('haarcascade_eye.xml')"
   ]
  },
  {
   "cell_type": "code",
   "execution_count": 38,
   "metadata": {},
   "outputs": [],
   "source": [
    "#img = cv2.imread(r'./img/sogno2.jpg')\n",
    "#img = cv2.imread(r'./img/sogno1.jpg')\n",
    "#img = cv2.imread(r'C:\\Users\\rlatn\\image_db\\whilstle.jpg')"
   ]
  },
  {
   "cell_type": "code",
   "execution_count": 50,
   "metadata": {},
   "outputs": [
    {
     "data": {
      "text/plain": [
       "['C:/Users/rlatn/image_db\\\\sogno1.jpg',\n",
       " 'C:/Users/rlatn/image_db\\\\sogno2.jpg',\n",
       " 'C:/Users/rlatn/image_db\\\\whilstle.jpg',\n",
       " 'C:/Users/rlatn/image_db\\\\whistle.jpg',\n",
       " 'C:/Users/rlatn/image_db\\\\whistle111.jpg']"
      ]
     },
     "execution_count": 50,
     "metadata": {},
     "output_type": "execute_result"
    }
   ],
   "source": [
    "#사진들이 저장되어 있는 폴더에 접근해서 차례대로 사진(.jpg) 불러오기\n",
    "images = glob.glob(r'C:/Users/rlatn/image_db/*.jpg')\n",
    "images"
   ]
  },
  {
   "cell_type": "code",
   "execution_count": 60,
   "metadata": {},
   "outputs": [
    {
     "name": "stdout",
     "output_type": "stream",
     "text": [
      "얼굴 개수: 4\n",
      "얼굴 개수: 5\n",
      "얼굴 개수: 2\n",
      "얼굴 개수: 1\n",
      "사진 저장\n",
      "얼굴 개수: 1\n",
      "사진 저장\n"
     ]
    }
   ],
   "source": [
    "#지정한 경로에 있는 .jpg 형태의 사진들마다 얼굴 검출\n",
    "count = 0\n",
    "for img in images:\n",
    "    count += 1\n",
    "    filename = r'C:/Users/rlatn/image_select/' + str(count) + '.jpg'\n",
    "    \n",
    "    img = cv2.imread(img)\n",
    "    gray = cv2.cvtColor(img, cv2.COLOR_BGR2GRAY)\n",
    "    \n",
    "    faces = face_cascade.detectMultiScale(gray, 1.3, 5)\n",
    "    face_count = len(faces) \n",
    "    print(\"얼굴 개수:\",face_count)\n",
    "    \n",
    "    #검출된 얼굴이 1개인 사진만 따로 저장\n",
    "    if(face_count == 1):\n",
    "        print(\"사진 저장\")\n",
    "        cv2.imwrite(filename, img)"
   ]
  },
  {
   "cell_type": "code",
   "execution_count": null,
   "metadata": {},
   "outputs": [],
   "source": []
  }
 ],
 "metadata": {
  "kernelspec": {
   "display_name": "Python 3",
   "language": "python",
   "name": "python3"
  },
  "language_info": {
   "codemirror_mode": {
    "name": "ipython",
    "version": 3
   },
   "file_extension": ".py",
   "mimetype": "text/x-python",
   "name": "python",
   "nbconvert_exporter": "python",
   "pygments_lexer": "ipython3",
   "version": "3.7.3"
  }
 },
 "nbformat": 4,
 "nbformat_minor": 2
}
