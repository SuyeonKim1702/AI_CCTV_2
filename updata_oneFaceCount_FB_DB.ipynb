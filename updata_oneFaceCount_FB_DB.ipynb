{
 "cells": [
  {
   "cell_type": "code",
   "execution_count": 47,
   "metadata": {},
   "outputs": [],
   "source": [
    "import numpy as np\n",
    "import cv2\n",
    "import glob\n",
    "\n",
    "face_cascade = cv2.CascadeClassifier(r'C:\\Users\\rlatn\\AppData\\Local\\Programs\\Python\\Python37\\haarcascade_frontalface_default.xml')\n",
    "eye_cascade = cv2.CascadeClassifier('haarcascade_eye.xml')"
   ]
  },
  {
   "cell_type": "code",
   "execution_count": 54,
   "metadata": {},
   "outputs": [],
   "source": [
    "import firebase_admin\n",
    "from firebase_admin import credentials\n",
    "from firebase_admin import db\n",
    "\n",
    "#Firebase database 인증 및 앱 초기화\n",
    "cred = credentials.Certificate(r'C:/Users/rlatn/Project_image_db/aicctv-8f5ac-firebase-adminsdk-n59g4-f472e27c10.json')\n",
    "firebase_admin.initialize_app(cred,{\n",
    "    'databaseURL' : 'https://aicctv-8f5ac.firebaseio.com/'\n",
    "}, name='image')\n",
    "\n",
    "#db 위치 설정\n",
    "ref = db.reference('00gpwls00/PhotoLink/수영')"
   ]
  },
  {
   "cell_type": "code",
   "execution_count": 51,
   "metadata": {},
   "outputs": [
    {
     "data": {
      "text/plain": [
       "['C:/Users/rlatn/Project_image_db/image_db\\\\20200219_135352626_52771.png',\n",
       " 'C:/Users/rlatn/Project_image_db/image_db\\\\30000633345_1280.png',\n",
       " 'C:/Users/rlatn/Project_image_db/image_db\\\\sogno1.png',\n",
       " 'C:/Users/rlatn/Project_image_db/image_db\\\\sogno2.png',\n",
       " 'C:/Users/rlatn/Project_image_db/image_db\\\\whilstle.png',\n",
       " 'C:/Users/rlatn/Project_image_db/image_db\\\\whistle.png',\n",
       " 'C:/Users/rlatn/Project_image_db/image_db\\\\whistle111.png',\n",
       " 'C:/Users/rlatn/Project_image_db/image_db\\\\zkern.png',\n",
       " 'C:/Users/rlatn/Project_image_db/image_db\\\\zkern11.png']"
      ]
     },
     "execution_count": 51,
     "metadata": {},
     "output_type": "execute_result"
    }
   ],
   "source": [
    "#사진들이 저장되어 있는 폴더에 접근해서 차례대로 사진(.jpg) 불러오기\n",
    "images = glob.glob(r'C:/Users/rlatn/Project_image_db/image_db/*.png')\n",
    "\n",
    "#images에 있는 파일 이름 출력\n",
    "images"
   ]
  },
  {
   "cell_type": "code",
   "execution_count": 52,
   "metadata": {},
   "outputs": [
    {
     "name": "stdout",
     "output_type": "stream",
     "text": [
      "얼굴 개수: 5\n",
      "얼굴 개수: 1\n",
      "저장 완료!\n",
      "얼굴 개수: 4\n",
      "얼굴 개수: 5\n",
      "얼굴 개수: 2\n",
      "얼굴 개수: 1\n",
      "저장 완료!\n",
      "얼굴 개수: 1\n",
      "저장 완료!\n",
      "얼굴 개수: 0\n",
      "얼굴 개수: 1\n",
      "저장 완료!\n"
     ]
    }
   ],
   "source": [
    "#지정한 경로에 있는 .jpg 형태의 사진들마다 얼굴 검출\n",
    "\n",
    "name = 1    #사진 제목을 저장할 때 1부터 시작하도록 저장하는 변수\n",
    "count = 0   #사진에 얼굴이 1개인 사진의 개수 저장하는 변수\n",
    "\n",
    "for img in images:\n",
    "    #사진을 저장할 폴더의 경로에 사진 이름 설정\n",
    "    #사진의 이름: 검출 얼굴 1개인 사진 중 몇번째인지 (count)\n",
    "    filename = r'C:/Users/rlatn/Project_image_db/image_select/' + str(name) + '.png'\n",
    "    \n",
    "    img = cv2.imread(img)\n",
    "    gray = cv2.cvtColor(img, cv2.COLOR_BGR2GRAY)\n",
    "    \n",
    "    faces = face_cascade.detectMultiScale(gray, 1.3, 5)\n",
    "    face_count = len(faces) \n",
    "    \n",
    "    #얼굴 개수 출력\n",
    "    print(\"얼굴 개수:\",face_count)\n",
    "    \n",
    "    #검출된 얼굴이 1개인 사진만 따로 다른 경로의 파일에 저장\n",
    "    if(face_count == 1):\n",
    "        #검출 얼굴 1개인 사진의 개수 나타내는 변수 count\n",
    "        count += 1\n",
    "        name += 1\n",
    "        cv2.imwrite(filename, img)\n",
    "        print(\"저장 완료!\")\n",
    "        \n",
    "#위에서 설정한 firebase의 database에 검출한 얼굴이 1개인 사진 개수 update\n",
    "ref.update({'검출 얼굴 1개인 사진 개수' : count})"
   ]
  },
  {
   "cell_type": "code",
   "execution_count": null,
   "metadata": {},
   "outputs": [],
   "source": []
  }
 ],
 "metadata": {
  "kernelspec": {
   "display_name": "Python 3",
   "language": "python",
   "name": "python3"
  },
  "language_info": {
   "codemirror_mode": {
    "name": "ipython",
    "version": 3
   },
   "file_extension": ".py",
   "mimetype": "text/x-python",
   "name": "python",
   "nbconvert_exporter": "python",
   "pygments_lexer": "ipython3",
   "version": "3.7.3"
  }
 },
 "nbformat": 4,
 "nbformat_minor": 2
}
