{
 "cells": [
  {
   "cell_type": "code",
   "execution_count": 5,
   "metadata": {},
   "outputs": [],
   "source": [
    "import firebase_admin\n",
    "import re\n",
    "import json\n",
    "import time\n",
    "import urllib.request\n",
    "import os\n",
    "from firebase_admin import credentials\n",
    "from firebase_admin import db"
   ]
  },
  {
   "cell_type": "code",
   "execution_count": 6,
   "metadata": {},
   "outputs": [
    {
     "ename": "ValueError",
     "evalue": "The default Firebase app already exists. This means you called initialize_app() more than once without providing an app name as the second argument. In most cases you only need to call initialize_app() once. But if you do want to initialize multiple apps, pass a second argument to initialize_app() to give each app a unique name.",
     "output_type": "error",
     "traceback": [
      "\u001b[1;31m---------------------------------------------------------------------------\u001b[0m",
      "\u001b[1;31mValueError\u001b[0m                                Traceback (most recent call last)",
      "\u001b[1;32m<ipython-input-6-f9f3b6a6ac81>\u001b[0m in \u001b[0;36m<module>\u001b[1;34m()\u001b[0m\n\u001b[0;32m      2\u001b[0m \u001b[0mcred\u001b[0m \u001b[1;33m=\u001b[0m \u001b[0mcredentials\u001b[0m\u001b[1;33m.\u001b[0m\u001b[0mCertificate\u001b[0m\u001b[1;33m(\u001b[0m\u001b[1;34mr'C:/Users/rlatn/Project_image_db/aicctv-8f5ac-firebase-adminsdk-n59g4-2e8482cb47.json'\u001b[0m\u001b[1;33m)\u001b[0m\u001b[1;33m\u001b[0m\u001b[1;33m\u001b[0m\u001b[0m\n\u001b[0;32m      3\u001b[0m firebase_admin.initialize_app(cred,{\n\u001b[1;32m----> 4\u001b[1;33m     \u001b[1;34m'databaseURL'\u001b[0m \u001b[1;33m:\u001b[0m \u001b[1;34m\"https://aicctv-8f5ac.firebaseio.com/\"\u001b[0m\u001b[1;33m\u001b[0m\u001b[1;33m\u001b[0m\u001b[0m\n\u001b[0m\u001b[0;32m      5\u001b[0m })\n",
      "\u001b[1;32m~\\Anaconda3\\lib\\site-packages\\firebase_admin\\__init__.py\u001b[0m in \u001b[0;36minitialize_app\u001b[1;34m(credential, options, name)\u001b[0m\n\u001b[0;32m     70\u001b[0m     \u001b[1;32mif\u001b[0m \u001b[0mname\u001b[0m \u001b[1;33m==\u001b[0m \u001b[0m_DEFAULT_APP_NAME\u001b[0m\u001b[1;33m:\u001b[0m\u001b[1;33m\u001b[0m\u001b[1;33m\u001b[0m\u001b[0m\n\u001b[0;32m     71\u001b[0m         raise ValueError((\n\u001b[1;32m---> 72\u001b[1;33m             \u001b[1;34m'The default Firebase app already exists. This means you called '\u001b[0m\u001b[1;33m\u001b[0m\u001b[1;33m\u001b[0m\u001b[0m\n\u001b[0m\u001b[0;32m     73\u001b[0m             \u001b[1;34m'initialize_app() more than once without providing an app name as '\u001b[0m\u001b[1;33m\u001b[0m\u001b[1;33m\u001b[0m\u001b[0m\n\u001b[0;32m     74\u001b[0m             \u001b[1;34m'the second argument. In most cases you only need to call '\u001b[0m\u001b[1;33m\u001b[0m\u001b[1;33m\u001b[0m\u001b[0m\n",
      "\u001b[1;31mValueError\u001b[0m: The default Firebase app already exists. This means you called initialize_app() more than once without providing an app name as the second argument. In most cases you only need to call initialize_app() once. But if you do want to initialize multiple apps, pass a second argument to initialize_app() to give each app a unique name."
     ]
    }
   ],
   "source": [
    "#Firebase database 인증 및 앱 초기화\n",
    "cred = credentials.Certificate(r'C:/Users/rlatn/Project_image_db/aicctv-8f5ac-firebase-adminsdk-n59g4-2e8482cb47.json')\n",
    "firebase_admin.initialize_app(cred,{\n",
    "    'databaseURL' : \"https://aicctv-8f5ac.firebaseio.com/\"\n",
    "})\n"
   ]
  },
  {
   "cell_type": "code",
   "execution_count": 7,
   "metadata": {},
   "outputs": [],
   "source": [
    "ID = \"00gpwls00\" # 이용자마다 다르게 코딩해야 하는 부분\n",
    "ref = db.reference(ID+\"/VideoLink\") #db 위치 지정"
   ]
  },
  {
   "cell_type": "code",
   "execution_count": 9,
   "metadata": {
    "scrolled": false
   },
   "outputs": [
    {
     "ename": "KeyboardInterrupt",
     "evalue": "",
     "output_type": "error",
     "traceback": [
      "\u001b[1;31m---------------------------------------------------------------------------\u001b[0m",
      "\u001b[1;31mKeyboardInterrupt\u001b[0m                         Traceback (most recent call last)",
      "\u001b[1;32m<ipython-input-9-ad0ed3e3947d>\u001b[0m in \u001b[0;36m<module>\u001b[1;34m()\u001b[0m\n\u001b[0;32m     44\u001b[0m         \u001b[0mDownload_ref\u001b[0m\u001b[1;33m.\u001b[0m\u001b[0mset\u001b[0m\u001b[1;33m(\u001b[0m\u001b[0mDownload\u001b[0m\u001b[1;33m)\u001b[0m \u001b[1;31m# 다운로드를 모두 완료한 후 변수값을 변경\u001b[0m\u001b[1;33m\u001b[0m\u001b[1;33m\u001b[0m\u001b[0m\n\u001b[0;32m     45\u001b[0m \u001b[1;33m\u001b[0m\u001b[0m\n\u001b[1;32m---> 46\u001b[1;33m     \u001b[0mtime\u001b[0m\u001b[1;33m.\u001b[0m\u001b[0msleep\u001b[0m\u001b[1;33m(\u001b[0m\u001b[1;36m60\u001b[0m\u001b[1;33m)\u001b[0m\u001b[1;33m;\u001b[0m \u001b[1;31m# 60초에 한번씩만 확인 및 다운로드\u001b[0m\u001b[1;33m\u001b[0m\u001b[1;33m\u001b[0m\u001b[0m\n\u001b[0m",
      "\u001b[1;31mKeyboardInterrupt\u001b[0m: "
     ]
    }
   ],
   "source": [
    "while True: # 무한 반복문\n",
    "    \n",
    "    dic=ref.get() # dict object\n",
    "    tmp_str=json.dumps(dic, ensure_ascii=False)[1:-1] # 한글을 포함해 string으로 변환 후 맨 앞과 뒤의 {} 제거\n",
    "    tmp=re.sub(r'\"*\"','', tmp_str) #  이름과 video linke만 남기고 나머지 문자 삭제\n",
    "\n",
    "    video_nonsp_name = tmp.split(\", \") # 사진 이름만 추출 \n",
    "    video_name = []\n",
    "    video_url = []\n",
    "    for i in range(0, len(video_nonsp_name)):\n",
    "        video_name.append(video_nonsp_name[i].split(\": \")[0])\n",
    "        video_url.append(video_nonsp_name[i].split(\": \")[1])\n",
    "    \n",
    "    video_name = video_name[0:len(video_name)-2]\n",
    "    video_url = video_url[0:len(video_url)-2]\n",
    "    \n",
    "    video_ref=db.reference(ID+\"/VideoLink/\") \n",
    "    Download_ref=video_ref.child('Download')     # 컴퓨터에 다운로드 된 마지막 영상의 이름\n",
    "    Update_ref=video_ref.child('Update') # 데이터베이스에 업로드된 마지막 영상의 이름\n",
    "        \n",
    "    Download=Download_ref.get()\n",
    "    Update=Update_ref.get()\n",
    "        \n",
    "    # 다운받은 마지막 영상의 이름과 서버에 update된 마지막 영상의 이름이 다른 경우\n",
    "    while (Download != Update or Download=='0') : # 업데이트를 해야하는 경우 (다운로드가 필요한 경우)\n",
    "        outpath=\"C:/\"+ID+\"/video/\"\n",
    "        # 위의 outpath 경로가 존재하지 않을 경우, 경로를 생성함\n",
    "        if not os.path.isdir(outpath):\n",
    "            os.makedirs(outpath)\n",
    "        \n",
    "        count = 0\n",
    "        if(Download==0):\n",
    "            count = -1\n",
    "        else:\n",
    "            for i in range(0, len(video_name)):\n",
    "                if(video_name[i]==Download):\n",
    "                    count = i\n",
    "\n",
    "        for j in range (count+1, len(video_name)) : # 두 수의 차이만큼 반복 필요\n",
    "            file_name=video_name[j]\n",
    "            url=video_url[j]\n",
    "            urllib.request.urlretrieve(url, outpath+file_name+\".mp4\") # 다운로드\n",
    "            Download=file_name # 데이터베이스에 업데이트 하기 위해서 다운로드 받으며 체크\n",
    "        Download_ref.set(Download) # 다운로드를 모두 완료한 후 변수값을 변경\n",
    "            \n",
    "    time.sleep(60); # 60초에 한번씩만 확인 및 다운로드\n"
   ]
  },
  {
   "cell_type": "code",
   "execution_count": null,
   "metadata": {},
   "outputs": [],
   "source": []
  }
 ],
 "metadata": {
  "kernelspec": {
   "display_name": "Python 3",
   "language": "python",
   "name": "python3"
  }
 },
 "nbformat": 4,
 "nbformat_minor": 2
}
