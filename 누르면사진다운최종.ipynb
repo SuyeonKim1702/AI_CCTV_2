{
 "cells": [
  {
   "cell_type": "code",
   "execution_count": 1,
   "metadata": {},
   "outputs": [
    {
     "data": {
      "text/plain": [
       "<firebase_admin.App at 0x13336045e08>"
      ]
     },
     "execution_count": 1,
     "metadata": {},
     "output_type": "execute_result"
    }
   ],
   "source": [
    "#!/usr/bin/env python\n",
    "# coding: utf-8\n",
    "\n",
    "\n",
    "import firebase_admin\n",
    "import re\n",
    "import json\n",
    "import time\n",
    "import urllib.request\n",
    "import os\n",
    "from firebase_admin import credentials\n",
    "from firebase_admin import db\n",
    "\n",
    "\n",
    "#Firebase database 인증 및 앱 초기화\n",
    "cred = credentials.Certificate('myKey.json') # 해당 파일은 쥬피터 내의 현재 python 파일과 같은 경로에 저장\n",
    "firebase_admin.initialize_app(cred,{\n",
    "    'databaseURL' : \"https://aicctv-8f5ac.firebaseio.com/\"\n",
    "})\n"
   ]
  },
  {
   "cell_type": "code",
   "execution_count": null,
   "metadata": {},
   "outputs": [
    {
     "name": "stdout",
     "output_type": "stream",
     "text": [
      "이용자가 학습 버튼을 클릭하였습니다. 학습을 시작합니다.\n"
     ]
    }
   ],
   "source": [
    "ID = \"00gpwls00\" # 이용자마다 다르게 코딩해야 하는 부분\n",
    "ref = db.reference(ID+\"/PhotoLink\") #db 위치 지정\n",
    "\n",
    "\n",
    "while True: # 이용자가 클릭했을 경우에만 다운로드\n",
    "    \n",
    "    check = db.reference(ID+\"/Learning\").get()\n",
    "    if (check==0):\n",
    "        print(\"이용자가 아직 클릭하지 않았습니다. 학습을 하지 않습니다.\")\n",
    "        time.sleep(60); # 60초에 한번씩만 확인 및 다운로드\n",
    "        continue;\n",
    "    elif (check==1):\n",
    "        print(\"이용자가 학습 버튼을 클릭하였습니다. 학습을 시작합니다.\")\n",
    "        db.reference(ID+\"/Learning\").set(0)\n",
    "\n",
    "    dic=ref.get() # dict object\n",
    "    tmp_str=json.dumps(dic, ensure_ascii=False)[1:-1] # 한글을 포함해 string으로 변환 후 맨 앞과 뒤의 {} 제거\n",
    "    tmp=re.sub(r': {[^}]*}', '', tmp_str) #  쉼표와 이름을 제외하고 모든 문자 삭제\n",
    "    people=tmp.split(\", \") # 사진에 등록된 사람들 이름만 추출   \n",
    "    \n",
    "    for i in range (len(people)): # 얼굴이 등록된 사람 수 만큼 실행\n",
    "        person_ref=db.reference(ID+\"/PhotoLink/\"+people[i][1:-1]) # 쉼표를 제거해 레퍼런스 생성\n",
    "        DownCount_ref=person_ref.child('DownCount') # 컴퓨터에 다운로드 된 파일 레퍼런스\n",
    "        UpdateCount_ref=person_ref.child('UpdateCount') # 데이터베이스에 업로드된 파일 레퍼런스\n",
    "        \n",
    "        DownCount=DownCount_ref.get()\n",
    "        UpdateCount=UpdateCount_ref.get()\n",
    "        \n",
    "        if (DownCount!=UpdateCount) : # 업데이트를 해야하는 경우 (다운로드가 필요한 경우)\n",
    "            outpath=\"C:/\"+ID+\"/\"+people[i][1:-1]+\"/\"\n",
    "            # 위의 outpath 경로가 존재하지 않을 경우, 경로를 생성함\n",
    "            if not os.path.isdir(outpath):\n",
    "                os.makedirs(outpath)\n",
    "            # 배열로 파일명을 모두 split해서 저장\n",
    "            tmp_photoLink=json.dumps(person_ref.get(), ensure_ascii=False)[2:-1]\n",
    "            photoLink=re.sub(r': \"[^\"]*\",', '', tmp_photoLink)\n",
    "            photo_array=photoLink.split('\\\" \\\"')\n",
    "\n",
    "            for j in range (DownCount+1, UpdateCount+1) : # 두 수의 차이만큼 반복 필요\n",
    "                file_name=photo_array[j-1]\n",
    "                url=person_ref.child(file_name).get()\n",
    "                urllib.request.urlretrieve(url, outpath+file_name+\".png\") # 다운로드\n",
    "                DownCount+=1 # 데a이터베이스에 업데이트 하기 위해서 다운로드 받으며 체크\n",
    "            DownCount_ref.set(DownCount) # 다운로드를 모두 완료한 후 변수값을 변경\n",
    "            \n",
    "    time.sleep(60); # 60초에 한번씩만 확인 및 다운로드"
   ]
  },
  {
   "cell_type": "code",
   "execution_count": null,
   "metadata": {},
   "outputs": [],
   "source": []
  }
 ],
 "metadata": {
  "kernelspec": {
   "display_name": "Python 3",
   "language": "python",
   "name": "python3"
  },
  "language_info": {
   "codemirror_mode": {
    "name": "ipython",
    "version": 3
   },
   "file_extension": ".py",
   "mimetype": "text/x-python",
   "name": "python",
   "nbconvert_exporter": "python",
   "pygments_lexer": "ipython3",
   "version": "3.7.4"
  }
 },
 "nbformat": 4,
 "nbformat_minor": 2
}
