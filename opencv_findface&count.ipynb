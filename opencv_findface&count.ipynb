{
 "cells": [
  {
   "cell_type": "code",
   "execution_count": 47,
   "metadata": {},
   "outputs": [],
   "source": [
    "#!/usr/bin/env python\n",
    "#-*- coding:utf-8 -*-\n",
    "import numpy as np\n",
    "import cv2\n",
    "import glob\n",
    "\n",
    "import json\n",
    "import re\n",
    "import time\n",
    "import os\n",
    "\n",
    "face_cascade = cv2.CascadeClassifier(r'C:\\Users\\rlatn\\AppData\\Local\\Programs\\Python\\Python37\\haarcascade_frontalface_default.xml')\n",
    "#eye_cascade = cv2.CascadeClassifier('haarcascade_eye.xml')"
   ]
  },
  {
   "cell_type": "code",
   "execution_count": 2,
   "metadata": {},
   "outputs": [],
   "source": [
    "import firebase_admin\n",
    "from firebase_admin import credentials\n",
    "from firebase_admin import db\n",
    "\n",
    "#Firebase database 인증 및 앱 초기화\n",
    "cred = credentials.Certificate(r'C:/Users/rlatn/Project_image_db/aicctv-8f5ac-firebase-adminsdk-n59g4-2e8482cb47.json')\n",
    "firebase_admin.initialize_app(cred,{\n",
    "    'databaseURL' : 'https://aicctv-8f5ac.firebaseio.com/'})\n",
    "\n",
    "ID = \"00gpwls00\" # 이용자마다 다르게 코딩해야 하는 부분\n",
    "ref = db.reference(ID+\"/PhotoLink\") #db 위치 지정"
   ]
  },
  {
   "cell_type": "code",
   "execution_count": 52,
   "metadata": {},
   "outputs": [
    {
     "ename": "error",
     "evalue": "OpenCV(4.1.1) C:\\projects\\opencv-python\\opencv\\modules\\imgproc\\src\\color.cpp:182: error: (-215:Assertion failed) !_src.empty() in function 'cv::cvtColor'\n",
     "output_type": "error",
     "traceback": [
      "\u001b[1;31m---------------------------------------------------------------------------\u001b[0m",
      "\u001b[1;31merror\u001b[0m                                     Traceback (most recent call last)",
      "\u001b[1;32m<ipython-input-52-8e9a34ebaf55>\u001b[0m in \u001b[0;36m<module>\u001b[1;34m\u001b[0m\n\u001b[0;32m     36\u001b[0m \u001b[1;33m\u001b[0m\u001b[0m\n\u001b[0;32m     37\u001b[0m                 \u001b[0mimg\u001b[0m \u001b[1;33m=\u001b[0m \u001b[0mcv2\u001b[0m\u001b[1;33m.\u001b[0m\u001b[0mimread\u001b[0m\u001b[1;33m(\u001b[0m\u001b[0mimg\u001b[0m\u001b[1;33m)\u001b[0m\u001b[1;33m\u001b[0m\u001b[1;33m\u001b[0m\u001b[0m\n\u001b[1;32m---> 38\u001b[1;33m                 \u001b[0mgray\u001b[0m \u001b[1;33m=\u001b[0m \u001b[0mcv2\u001b[0m\u001b[1;33m.\u001b[0m\u001b[0mcvtColor\u001b[0m\u001b[1;33m(\u001b[0m\u001b[0mimg\u001b[0m\u001b[1;33m,\u001b[0m \u001b[0mcv2\u001b[0m\u001b[1;33m.\u001b[0m\u001b[0mCOLOR_BGR2GRAY\u001b[0m\u001b[1;33m)\u001b[0m\u001b[1;33m\u001b[0m\u001b[1;33m\u001b[0m\u001b[0m\n\u001b[0m\u001b[0;32m     39\u001b[0m \u001b[1;33m\u001b[0m\u001b[0m\n\u001b[0;32m     40\u001b[0m                 \u001b[0mfaces\u001b[0m \u001b[1;33m=\u001b[0m \u001b[0mface_cascade\u001b[0m\u001b[1;33m.\u001b[0m\u001b[0mdetectMultiScale\u001b[0m\u001b[1;33m(\u001b[0m\u001b[0mgray\u001b[0m\u001b[1;33m,\u001b[0m \u001b[1;36m1.3\u001b[0m\u001b[1;33m,\u001b[0m \u001b[1;36m5\u001b[0m\u001b[1;33m)\u001b[0m\u001b[1;33m\u001b[0m\u001b[1;33m\u001b[0m\u001b[0m\n",
      "\u001b[1;31merror\u001b[0m: OpenCV(4.1.1) C:\\projects\\opencv-python\\opencv\\modules\\imgproc\\src\\color.cpp:182: error: (-215:Assertion failed) !_src.empty() in function 'cv::cvtColor'\n"
     ]
    }
   ],
   "source": [
    "#지정한 경로에 있는 폴더마다 사진 검출\n",
    " \n",
    "#사진에 얼굴이 1개인 사진의 개수 저장하는 변수\n",
    "#얼굴 1개인 사진만 저장하는 폴더에 이전까지 몇개의 사진 저장되어있는지 나타내는 변수\n",
    "count = 0   \n",
    "\n",
    "while True:\n",
    "    \n",
    "    dic=ref.get() # dict object\n",
    "    tmp_str=json.dumps(dic, ensure_ascii=False)[1:-1] # 한글을 포함해 string으로 변환 후 맨 앞과 뒤의 {} 제거\n",
    "    tmp=re.sub(r': {[^}]*}', '', tmp_str) #  쉼표와 이름을 제외하고 모든 문자 삭제\n",
    "    people=tmp.split(\", \") # 사진에 등록된 사람들 이름만 추출   \n",
    "    \n",
    "    for i in range (len(people)):\n",
    "        person_ref=db.reference(ID+\"/PhotoLink/\"+people[i][1:-1])\n",
    "        \n",
    "        #DB에서 컴퓨터로 다운로드 된 사진의 개수\n",
    "        DownCount_ref=person_ref.child('DownCount')\n",
    "        DownCount=DownCount_ref.get()\n",
    "        \n",
    "        #사진 저장된 경로 outpath  \n",
    "        outpath=\"C:/\"+ID+\"/\"+people[i][1:-1]+\"/\"\n",
    "        #예) 'C:/00gpwls00/수영/'\n",
    "        \n",
    "        #outpath에 저장되어 있는 사진들 불러오기\n",
    "        images  = glob.glob(outpath+'**')\n",
    "\n",
    "        #images에 있는 파일 이름 출력\n",
    "        #print(images)\n",
    "        \n",
    "        #컴퓨터에 다운로드 된 사진들 중 얼굴 검출이 안된 사진이 있다면\n",
    "        if(DownCount != count):\n",
    "            for j in range(count, DownCount+1):\n",
    "                #업데이트 해야하는 사진을 img로 받아오기\n",
    "                img = images[j]\n",
    "        \n",
    "                img = cv2.imread(img)\n",
    "                gray = cv2.cvtColor(img, cv2.COLOR_BGR2GRAY)\n",
    "\n",
    "                faces = face_cascade.detectMultiScale(gray, 1.3, 5)\n",
    "                face_count = len(faces) \n",
    "\n",
    "                #얼굴 개수 출력\n",
    "                #print(\"얼굴 개수:\",face_count)\n",
    "                \n",
    "                #이름 형식 = C:/00gpwls00/수연\\20200315_033830_1.png -> 20200315_033830_1\n",
    "                filename = os.path.basename(img)\n",
    "\n",
    "                #검출된 얼굴이 1개인 사진만 따로 다른 경로의 파일에 저장\n",
    "                if(face_count == 1):\n",
    "                    #검출 얼굴 1개인 사진의 개수 나타내는 변수 count\n",
    "                    count += 1\n",
    "                    name += 1\n",
    "                    cv2.imwrite(filename, img)\n",
    "                    print(\"저장 완료\")\n",
    "\n",
    "            \n",
    "    #위에서 설정한 firebase의 database에 검출한 얼굴이 1개인 사진 개수 update\n",
    "    ref.update({'검출 얼굴 1개인 사진 개수' : count})   \n",
    "    \n",
    "    # 60초에 한번씩만 확인 및 다운로드\n",
    "    time.sleep(60)\n"
   ]
  },
  {
   "cell_type": "code",
   "execution_count": null,
   "metadata": {},
   "outputs": [],
   "source": []
  }
 ],
 "metadata": {
  "kernelspec": {
   "display_name": "Python 3",
   "language": "python",
   "name": "python3"
  },
  "language_info": {
   "codemirror_mode": {
    "name": "ipython",
    "version": 3
   },
   "file_extension": ".py",
   "mimetype": "text/x-python",
   "name": "python",
   "nbconvert_exporter": "python",
   "pygments_lexer": "ipython3",
   "version": "3.7.3"
  }
 },
 "nbformat": 4,
 "nbformat_minor": 2
}
